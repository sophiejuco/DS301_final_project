{
  "nbformat": 4,
  "nbformat_minor": 0,
  "metadata": {
    "colab": {
      "provenance": []
    },
    "kernelspec": {
      "name": "python3",
      "display_name": "Python 3"
    },
    "gpuClass": "standard"
  },
  "cells": [
    {
      "cell_type": "markdown",
      "metadata": {
        "id": "OPk9CrZM8bXx"
      },
      "source": [
        "# Transferring data from Google Drive to Google Cloud Storage\n"
      ]
    },
    {
      "cell_type": "code",
      "metadata": {
        "id": "gYyUbZ9j01LG",
        "colab": {
          "base_uri": "https://localhost:8080/"
        },
        "outputId": "eec17137-bfd5-42ff-b0d5-e4fc58cecb6b"
      },
      "source": [
        "from google.colab import drive\n",
        "drive.mount('/content/drive')"
      ],
      "execution_count": null,
      "outputs": [
        {
          "output_type": "stream",
          "name": "stdout",
          "text": [
            "Mounted at /content/drive\n"
          ]
        }
      ]
    },
    {
      "cell_type": "code",
      "source": [
        "import os\n",
        "data_dir = \"/content/drive/MyDrive/NYU4/NYU4.1_MDL/DS301-Final-project\"\n",
        "os.chdir(data_dir)\n",
        "print(os.getcwd())"
      ],
      "metadata": {
        "colab": {
          "base_uri": "https://localhost:8080/"
        },
        "id": "EiZhXXLautJt",
        "outputId": "79b08302-af51-49d0-dba0-5fb745dfbc82"
      },
      "execution_count": null,
      "outputs": [
        {
          "output_type": "stream",
          "name": "stdout",
          "text": [
            "/content/drive/MyDrive/NYU4/NYU4.1_MDL/DS301-Final-project\n"
          ]
        }
      ]
    },
    {
      "cell_type": "code",
      "source": [
        "!zip -r smartDocData_Train.zip smartDocData_Train\n",
        "!zip -r smartDocData_Test.zip smartDocData_Test "
      ],
      "metadata": {
        "colab": {
          "base_uri": "https://localhost:8080/",
          "height": 981
        },
        "id": "I_9KkI9YuBu0",
        "outputId": "dd4b151a-2be4-4292-fbe3-cf0ef165d911"
      },
      "execution_count": null,
      "outputs": [
        {
          "output_type": "stream",
          "name": "stderr",
          "text": [
            "ERROR:root:Internal Python error in the inspect module.\n",
            "Below is the traceback from this internal error.\n",
            "\n"
          ]
        },
        {
          "output_type": "stream",
          "name": "stdout",
          "text": [
            "Traceback (most recent call last):\n",
            "  File \"/usr/local/lib/python3.8/dist-packages/IPython/core/interactiveshell.py\", line 3326, in run_code\n",
            "    exec(code_obj, self.user_global_ns, self.user_ns)\n",
            "  File \"<ipython-input-5-a6ed0f9e6668>\", line 1, in <module>\n",
            "    get_ipython().system('zip -r smartDocData_Train.zip smartDocData_Train')\n",
            "  File \"/usr/local/lib/python3.8/dist-packages/google/colab/_shell.py\", line 95, in system\n",
            "    output = _system_commands._system_compat(self, *args, **kwargs)  # pylint:disable=protected-access\n",
            "  File \"/usr/local/lib/python3.8/dist-packages/google/colab/_system_commands.py\", line 436, in _system_compat\n",
            "    result = _run_command(\n",
            "  File \"/usr/local/lib/python3.8/dist-packages/google/colab/_system_commands.py\", line 195, in _run_command\n",
            "    return _monitor_process(parent_pty, epoll, p, cmd, update_stdin_widget)\n",
            "  File \"/usr/local/lib/python3.8/dist-packages/google/colab/_system_commands.py\", line 225, in _monitor_process\n",
            "    result = _poll_process(parent_pty, epoll, p, cmd, decoder, state)\n",
            "  File \"/usr/local/lib/python3.8/dist-packages/google/colab/_system_commands.py\", line 327, in _poll_process\n",
            "    time.sleep(0.1)\n",
            "KeyboardInterrupt\n",
            "\n",
            "During handling of the above exception, another exception occurred:\n",
            "\n",
            "Traceback (most recent call last):\n",
            "  File \"/usr/local/lib/python3.8/dist-packages/IPython/core/interactiveshell.py\", line 2040, in showtraceback\n",
            "    stb = value._render_traceback_()\n",
            "AttributeError: 'KeyboardInterrupt' object has no attribute '_render_traceback_'\n",
            "\n",
            "During handling of the above exception, another exception occurred:\n",
            "\n",
            "Traceback (most recent call last):\n",
            "  File \"/usr/lib/python3.8/genericpath.py\", line 19, in exists\n",
            "    os.stat(path)\n",
            "FileNotFoundError: [Errno 2] No such file or directory: '<ipython-input-5-a6ed0f9e6668>'\n",
            "\n",
            "During handling of the above exception, another exception occurred:\n",
            "\n",
            "Traceback (most recent call last):\n",
            "  File \"/usr/local/lib/python3.8/dist-packages/IPython/core/ultratb.py\", line 1101, in get_records\n",
            "    return _fixed_getinnerframes(etb, number_of_lines_of_context, tb_offset)\n",
            "  File \"/usr/local/lib/python3.8/dist-packages/IPython/core/ultratb.py\", line 319, in wrapped\n",
            "    return f(*args, **kwargs)\n",
            "  File \"/usr/local/lib/python3.8/dist-packages/IPython/core/ultratb.py\", line 353, in _fixed_getinnerframes\n",
            "    records = fix_frame_records_filenames(inspect.getinnerframes(etb, context))\n",
            "  File \"/usr/lib/python3.8/inspect.py\", line 1515, in getinnerframes\n",
            "    frameinfo = (tb.tb_frame,) + getframeinfo(tb, context)\n",
            "  File \"/usr/lib/python3.8/inspect.py\", line 1473, in getframeinfo\n",
            "    filename = getsourcefile(frame) or getfile(frame)\n",
            "  File \"/usr/lib/python3.8/inspect.py\", line 705, in getsourcefile\n",
            "    if os.path.exists(filename):\n",
            "  File \"/usr/lib/python3.8/genericpath.py\", line 19, in exists\n",
            "    os.stat(path)\n",
            "KeyboardInterrupt\n"
          ]
        },
        {
          "output_type": "error",
          "ename": "KeyboardInterrupt",
          "evalue": "ignored",
          "traceback": [
            "\u001b[0;31m---------------------------------------------------------------------------\u001b[0m"
          ]
        }
      ]
    },
    {
      "cell_type": "code",
      "metadata": {
        "id": "aehvgY-u7zRe",
        "colab": {
          "base_uri": "https://localhost:8080/"
        },
        "outputId": "f641fba4-7ba6-4493-907d-1cddc834c4d2"
      },
      "source": [
        "from google.colab import auth\n",
        "auth.authenticate_user()\n",
        "\n",
        "project_id = 'doc-localization-al'\n",
        "!gcloud config set project {project_id}\n",
        "!gsutil ls\n",
        "bucket_name = 'doc-local-data'"
      ],
      "execution_count": null,
      "outputs": [
        {
          "output_type": "stream",
          "name": "stdout",
          "text": [
            "Updated property [core/project].\n",
            "gs://doc-local-data/\n"
          ]
        }
      ]
    },
    {
      "cell_type": "code",
      "metadata": {
        "id": "bFfQadlr0_Wy",
        "colab": {
          "base_uri": "https://localhost:8080/"
        },
        "outputId": "242ab023-4ee6-459a-f2ab-17c82766631c"
      },
      "source": [
        "!gsutil -m cp -r /content/drive/My\\ Drive/NYU4/NYU4.1_MDL/DS301-Final-project/utils.py gs://{bucket_name}/"
      ],
      "execution_count": null,
      "outputs": [
        {
          "output_type": "stream",
          "name": "stdout",
          "text": [
            "Copying file:///content/drive/My Drive/NYU4/NYU4.1_MDL/DS301-Final-project/utils.py [Content-Type=text/x-python]...\n",
            "- [1/1 files][  5.4 KiB/  5.4 KiB] 100% Done                                    \n",
            "Operation completed over 1 objects/5.4 KiB.                                      \n"
          ]
        }
      ]
    },
    {
      "cell_type": "code",
      "source": [
        "!gsutil -m cp -r /content/drive/My\\ Drive/NYU4/NYU4.1_MDL/DS301-Final-project/smartDocData_Train/gt-train.csv gs://{bucket_name}/"
      ],
      "metadata": {
        "colab": {
          "base_uri": "https://localhost:8080/"
        },
        "id": "tz0GInZuGJ67",
        "outputId": "4cfc178e-f760-43e7-874b-3e5ede536858"
      },
      "execution_count": null,
      "outputs": [
        {
          "output_type": "stream",
          "name": "stdout",
          "text": [
            "Copying file:///content/drive/My Drive/NYU4/NYU4.1_MDL/DS301-Final-project/smartDocData_Train/gt-train.csv [Content-Type=text/csv]...\n",
            "- [1/1 files][  1.4 MiB/  1.4 MiB] 100% Done                                    \n",
            "Operation completed over 1 objects/1.4 MiB.                                      \n"
          ]
        }
      ]
    },
    {
      "cell_type": "code",
      "source": [
        "!gsutil -m cp -r /content/drive/My\\ Drive/NYU4/NYU4.1_MDL/DS301-Final-project/smartDocData_Test/gt-test.csv gs://{bucket_name}/"
      ],
      "metadata": {
        "colab": {
          "base_uri": "https://localhost:8080/"
        },
        "id": "EB9g8XJ5GKE0",
        "outputId": "07573b2d-8c37-473f-bcf4-8805fccbb026"
      },
      "execution_count": null,
      "outputs": [
        {
          "output_type": "stream",
          "name": "stdout",
          "text": [
            "Copying file:///content/drive/My Drive/NYU4/NYU4.1_MDL/DS301-Final-project/smartDocData_Test/gt-test.csv [Content-Type=text/csv]...\n",
            "-\n",
            "Operation completed over 1 objects/527.3 KiB.                                    \n"
          ]
        }
      ]
    },
    {
      "cell_type": "code",
      "source": [
        "!gsutil -m cp -r /content/drive/My\\ Drive/NYU4/NYU4.1_MDL/DS301-Final-project/data-io.ipynb gs://{bucket_name}/"
      ],
      "metadata": {
        "colab": {
          "base_uri": "https://localhost:8080/"
        },
        "id": "rY0193SKHcgH",
        "outputId": "3553e763-b500-4a95-b9f2-b1304943e628"
      },
      "execution_count": null,
      "outputs": [
        {
          "output_type": "stream",
          "name": "stdout",
          "text": [
            "Copying file:///content/drive/My Drive/NYU4/NYU4.1_MDL/DS301-Final-project/data-io.ipynb [Content-Type=application/octet-stream]...\n",
            "- [1/1 files][471.6 KiB/471.6 KiB] 100% Done                                    \n",
            "Operation completed over 1 objects/471.6 KiB.                                    \n"
          ]
        }
      ]
    }
  ]
}